{
 "cells": [
  {
   "cell_type": "code",
   "execution_count": 1,
   "id": "666b1c3e-27ed-4d67-bb69-52ceb6ea197d",
   "metadata": {},
   "outputs": [],
   "source": [
    "import pandas as pd\n",
    "import numpy as np\n",
    "import os\n",
    "import math"
   ]
  },
  {
   "cell_type": "code",
   "execution_count": 2,
   "id": "a49725a2-2c13-457f-be95-fe026ddf3dbd",
   "metadata": {},
   "outputs": [
    {
     "name": "stdout",
     "output_type": "stream",
     "text": [
      "Input CSV file: C:/Users/jason/OneDrive - The Pennsylvania State University/DAAN 881, Data Drive Decision Making/Project/Auto Data/Merged/TN_PROCESSED_corrected_v2.csv\n",
      "Number of output parts: 4\n"
     ]
    }
   ],
   "source": [
    "# --- Configuration ---\n",
    "# Define the directory where the file is located\n",
    "file_directory = r\"C:/Users/jason/OneDrive - The Pennsylvania State University/DAAN 881, Data Drive Decision Making/Project/Auto Data/Merged/\"\n",
    "\n",
    "# Define the input CSV filename\n",
    "input_csv_filename = \"TN_PROCESSED_corrected_v2.csv\"\n",
    "\n",
    "# Define the base for output CSV filenames\n",
    "output_csv_basename = \"TN_PROCESSED_corrected_v2\"\n",
    "\n",
    "# Define the number of parts to split into\n",
    "num_parts = 4\n",
    "\n",
    "# Construct full input path\n",
    "input_filepath = os.path.join(file_directory, input_csv_filename)\n",
    "\n",
    "print(f\"Input CSV file: {input_filepath}\")\n",
    "print(f\"Number of output parts: {num_parts}\")"
   ]
  },
  {
   "cell_type": "code",
   "execution_count": 3,
   "id": "e72d1203-e5b4-4473-9b6b-3c3069ab67d8",
   "metadata": {},
   "outputs": [
    {
     "name": "stdout",
     "output_type": "stream",
     "text": [
      "\n",
      "Reading 'TN_PROCESSED_corrected_v2.csv'...\n",
      "Successfully read 9,502,214 rows and 15 columns.\n",
      "\n",
      "Splitting data into 4 parts...\n"
     ]
    },
    {
     "name": "stderr",
     "output_type": "stream",
     "text": [
      "C:\\Users\\jason\\anaconda3\\envs\\DeepL\\lib\\site-packages\\numpy\\core\\fromnumeric.py:59: FutureWarning: 'DataFrame.swapaxes' is deprecated and will be removed in a future version. Please use 'DataFrame.transpose' instead.\n",
      "  return bound(*args, **kwds)\n"
     ]
    },
    {
     "name": "stdout",
     "output_type": "stream",
     "text": [
      "Data split complete.\n",
      "\n",
      "Writing output CSV files...\n",
      "  Writing 'TN_PROCESSED_corrected_v2_p1.csv' (2,375,554 rows)...\n",
      "  Successfully wrote 'TN_PROCESSED_corrected_v2_p1.csv'.\n",
      "  Writing 'TN_PROCESSED_corrected_v2_p2.csv' (2,375,554 rows)...\n",
      "  Successfully wrote 'TN_PROCESSED_corrected_v2_p2.csv'.\n",
      "  Writing 'TN_PROCESSED_corrected_v2_p3.csv' (2,375,553 rows)...\n",
      "  Successfully wrote 'TN_PROCESSED_corrected_v2_p3.csv'.\n",
      "  Writing 'TN_PROCESSED_corrected_v2_p4.csv' (2,375,553 rows)...\n",
      "  Successfully wrote 'TN_PROCESSED_corrected_v2_p4.csv'.\n",
      "\n",
      "Script finished.\n"
     ]
    }
   ],
   "source": [
    "# --- Read CSV ---\n",
    "try:\n",
    "    print(f\"\\nReading '{input_csv_filename}'...\")\n",
    "    # Use low_memory=False for potentially large files with mixed types\n",
    "    df = pd.read_csv(input_filepath, low_memory=False)\n",
    "    total_rows = len(df)\n",
    "    print(f\"Successfully read {total_rows:,} rows and {len(df.columns)} columns.\")\n",
    "\n",
    "    if total_rows == 0:\n",
    "        print(\"Input CSV file is empty. Cannot split.\")\n",
    "        exit()\n",
    "    elif total_rows < num_parts:\n",
    "        print(f\"Warning: Total rows ({total_rows}) is less than the number of parts ({num_parts}).\")\n",
    "        # Adjust num_parts or handle as needed, here we'll create files with fewer rows\n",
    "        # num_parts = total_rows # Option: create one file per row if rows < parts\n",
    "        pass # Continue and create potentially empty files for parts > total_rows\n",
    "\n",
    "except FileNotFoundError:\n",
    "    print(f\"\\nERROR: Input file not found at '{input_filepath}'. Please check the path and filename.\")\n",
    "    exit()\n",
    "except Exception as e:\n",
    "    print(f\"\\nERROR: An error occurred while reading the CSV file: {e}\")\n",
    "    exit()\n",
    "\n",
    "# --- Split DataFrame ---\n",
    "print(f\"\\nSplitting data into {num_parts} parts...\")\n",
    "\n",
    "# Use numpy.array_split to handle potentially uneven splits\n",
    "# It returns a list of DataFrames\n",
    "df_chunks = np.array_split(df, num_parts)\n",
    "\n",
    "print(\"Data split complete.\")\n",
    "\n",
    "# --- Write Output CSV Files ---\n",
    "print(\"\\nWriting output CSV files...\")\n",
    "try:\n",
    "    for i, df_chunk in enumerate(df_chunks):\n",
    "        part_number = i + 1\n",
    "        # Construct the output filename for this part\n",
    "        output_filename = f\"{output_csv_basename}_p{part_number}.csv\"\n",
    "        output_filepath = os.path.join(file_directory, output_filename)\n",
    "\n",
    "        print(f\"  Writing '{output_filename}' ({len(df_chunk):,} rows)...\")\n",
    "\n",
    "        # Only write if the chunk is not empty (handles case where total_rows < num_parts)\n",
    "        if not df_chunk.empty:\n",
    "             df_chunk.to_csv(output_filepath, index=False)\n",
    "             print(f\"  Successfully wrote '{output_filename}'.\")\n",
    "        else:\n",
    "             print(f\"  Skipping empty chunk for '{output_filename}'.\")\n",
    "\n",
    "\n",
    "except Exception as e:\n",
    "    print(f\"\\nERROR: An error occurred while writing one of the output CSV files: {e}\")\n",
    "\n",
    "print(\"\\nScript finished.\")"
   ]
  },
  {
   "cell_type": "code",
   "execution_count": null,
   "id": "37c39945-97cc-4163-a602-b80b821067bb",
   "metadata": {},
   "outputs": [],
   "source": []
  }
 ],
 "metadata": {
  "kernelspec": {
   "display_name": "Python 3 (ipykernel)",
   "language": "python",
   "name": "python3"
  },
  "language_info": {
   "codemirror_mode": {
    "name": "ipython",
    "version": 3
   },
   "file_extension": ".py",
   "mimetype": "text/x-python",
   "name": "python",
   "nbconvert_exporter": "python",
   "pygments_lexer": "ipython3",
   "version": "3.10.13"
  }
 },
 "nbformat": 4,
 "nbformat_minor": 5
}
