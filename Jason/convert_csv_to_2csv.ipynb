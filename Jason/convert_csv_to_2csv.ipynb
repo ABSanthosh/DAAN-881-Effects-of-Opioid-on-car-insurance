{
 "cells": [
  {
   "cell_type": "code",
   "execution_count": 1,
   "id": "5522fef2-1885-4a95-8a81-b159f57e06e5",
   "metadata": {},
   "outputs": [],
   "source": [
    "import pandas as pd\n",
    "import os\n",
    "import math"
   ]
  },
  {
   "cell_type": "code",
   "execution_count": 2,
   "id": "79a33132-7365-460e-8620-7d073b766745",
   "metadata": {},
   "outputs": [
    {
     "name": "stdout",
     "output_type": "stream",
     "text": [
      "Input CSV file: C:/Users/jason/OneDrive - The Pennsylvania State University/DAAN 881, Data Drive Decision Making/Project/Auto Data/Merged/PA_PROCESSED_corrected.csv\n",
      "Output Part 1: C:/Users/jason/OneDrive - The Pennsylvania State University/DAAN 881, Data Drive Decision Making/Project/Auto Data/Merged/PA_PROCESSED_corrected_p1.csv\n",
      "Output Part 2: C:/Users/jason/OneDrive - The Pennsylvania State University/DAAN 881, Data Drive Decision Making/Project/Auto Data/Merged/PA_PROCESSED_corrected_p2.csv\n"
     ]
    }
   ],
   "source": [
    "# --- Configuration ---\n",
    "# Define the directory where the file is located\n",
    "file_directory = r\"C:/Users/jason/OneDrive - The Pennsylvania State University/DAAN 881, Data Drive Decision Making/Project/Auto Data/Merged/\"\n",
    "\n",
    "# Define the input CSV filename\n",
    "input_csv_filename = \"PA_PROCESSED_corrected.csv\"\n",
    "\n",
    "# Define the desired output CSV filenames\n",
    "output_csv_filename_p1 = \"PA_PROCESSED_corrected_p1.csv\"\n",
    "output_csv_filename_p2 = \"PA_PROCESSED_corrected_p2.csv\"\n",
    "\n",
    "# Construct full paths\n",
    "input_filepath = os.path.join(file_directory, input_csv_filename)\n",
    "output_filepath_p1 = os.path.join(file_directory, output_csv_filename_p1)\n",
    "output_filepath_p2 = os.path.join(file_directory, output_csv_filename_p2)\n",
    "\n",
    "print(f\"Input CSV file: {input_filepath}\")\n",
    "print(f\"Output Part 1: {output_filepath_p1}\")\n",
    "print(f\"Output Part 2: {output_filepath_p2}\")"
   ]
  },
  {
   "cell_type": "code",
   "execution_count": 3,
   "id": "c089a366-e706-4d81-b9bb-0f0aa3e96bfb",
   "metadata": {},
   "outputs": [
    {
     "name": "stdout",
     "output_type": "stream",
     "text": [
      "\n",
      "Reading 'PA_PROCESSED_corrected.csv'...\n",
      "Successfully read 5,538,978 rows and 15 columns.\n",
      "\n",
      "Splitting data at row index 2,769,489...\n",
      "Part 1 contains 2,769,489 rows.\n",
      "Part 2 contains 2,769,489 rows.\n",
      "\n",
      "Writing 'PA_PROCESSED_corrected_p1.csv'...\n",
      "Successfully wrote PA_PROCESSED_corrected_p1.csv.\n",
      "\n",
      "Writing 'PA_PROCESSED_corrected_p2.csv'...\n",
      "Successfully wrote PA_PROCESSED_corrected_p2.csv.\n",
      "\n",
      "Script finished.\n"
     ]
    }
   ],
   "source": [
    "# --- Read CSV ---\n",
    "try:\n",
    "    print(f\"\\nReading '{input_csv_filename}'...\")\n",
    "    # Use low_memory=False if needed for large files with mixed types\n",
    "    df = pd.read_csv(input_filepath, low_memory=False)\n",
    "    total_rows = len(df)\n",
    "    print(f\"Successfully read {total_rows:,} rows and {len(df.columns)} columns.\")\n",
    "\n",
    "    if total_rows == 0:\n",
    "        print(\"Input CSV file is empty. Cannot split.\")\n",
    "        exit()\n",
    "\n",
    "except FileNotFoundError:\n",
    "    print(f\"\\nERROR: Input file not found at '{input_filepath}'. Please check the path and filename.\")\n",
    "    exit()\n",
    "except Exception as e:\n",
    "    print(f\"\\nERROR: An error occurred while reading the CSV file: {e}\")\n",
    "    exit()\n",
    "\n",
    "# --- Split DataFrame ---\n",
    "# Calculate the midpoint row index (integer division)\n",
    "midpoint = total_rows // 2\n",
    "print(f\"\\nSplitting data at row index {midpoint:,}...\")\n",
    "\n",
    "# Select the first half (rows 0 up to midpoint-1)\n",
    "df_part1 = df.iloc[:midpoint]\n",
    "\n",
    "# Select the second half (rows midpoint up to the end)\n",
    "df_part2 = df.iloc[midpoint:]\n",
    "\n",
    "print(f\"Part 1 contains {len(df_part1):,} rows.\")\n",
    "print(f\"Part 2 contains {len(df_part2):,} rows.\")\n",
    "\n",
    "# --- Write Output CSV Files ---\n",
    "try:\n",
    "    print(f\"\\nWriting '{output_csv_filename_p1}'...\")\n",
    "    df_part1.to_csv(output_filepath_p1, index=False)\n",
    "    print(f\"Successfully wrote {output_csv_filename_p1}.\")\n",
    "\n",
    "    print(f\"\\nWriting '{output_csv_filename_p2}'...\")\n",
    "    df_part2.to_csv(output_filepath_p2, index=False)\n",
    "    print(f\"Successfully wrote {output_csv_filename_p2}.\")\n",
    "\n",
    "except Exception as e:\n",
    "    print(f\"\\nERROR: An error occurred while writing one of the output CSV files: {e}\")\n",
    "\n",
    "print(\"\\nScript finished.\")"
   ]
  },
  {
   "cell_type": "code",
   "execution_count": null,
   "id": "9d1520e2-6886-4174-9c0f-c50754606190",
   "metadata": {},
   "outputs": [],
   "source": []
  }
 ],
 "metadata": {
  "kernelspec": {
   "display_name": "Python 3 (ipykernel)",
   "language": "python",
   "name": "python3"
  },
  "language_info": {
   "codemirror_mode": {
    "name": "ipython",
    "version": 3
   },
   "file_extension": ".py",
   "mimetype": "text/x-python",
   "name": "python",
   "nbconvert_exporter": "python",
   "pygments_lexer": "ipython3",
   "version": "3.10.13"
  }
 },
 "nbformat": 4,
 "nbformat_minor": 5
}
