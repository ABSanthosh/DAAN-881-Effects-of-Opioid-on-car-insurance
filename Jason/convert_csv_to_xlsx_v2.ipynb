{
 "cells": [
  {
   "cell_type": "code",
   "execution_count": 1,
   "id": "a9134486-e71d-4878-95f5-9c1283b06281",
   "metadata": {},
   "outputs": [],
   "source": [
    "import pandas as pd\n",
    "import os"
   ]
  },
  {
   "cell_type": "code",
   "execution_count": 2,
   "id": "c4c7c4bd-570e-4dd0-b26d-7ba33d0fd11c",
   "metadata": {},
   "outputs": [
    {
     "name": "stdout",
     "output_type": "stream",
     "text": [
      "Input CSV file: C:/Users/jason/OneDrive - The Pennsylvania State University/DAAN 881, Data Drive Decision Making/Project/Auto Data/Merged/PA_PROCESSED_corrected.csv\n",
      "Output Excel file: C:/Users/jason/OneDrive - The Pennsylvania State University/DAAN 881, Data Drive Decision Making/Project/Auto Data/Merged/PA_PROCESSED_corrected.xlsx\n"
     ]
    }
   ],
   "source": [
    "# --- Configuration ---\n",
    "# Define the directory where the file is located\n",
    "file_directory = r\"C:/Users/jason/OneDrive - The Pennsylvania State University/DAAN 881, Data Drive Decision Making/Project/Auto Data/Merged/\"\n",
    "\n",
    "# Define the input CSV filename\n",
    "csv_filename = \"PA_PROCESSED_corrected.csv\"\n",
    "\n",
    "# Define the desired output Excel filename\n",
    "excel_filename = \"PA_PROCESSED_corrected.xlsx\"\n",
    "\n",
    "# Construct full paths\n",
    "csv_filepath = os.path.join(file_directory, csv_filename)\n",
    "excel_filepath = os.path.join(file_directory, excel_filename)\n",
    "\n",
    "print(f\"Input CSV file: {csv_filepath}\")\n",
    "print(f\"Output Excel file: {excel_filepath}\")"
   ]
  },
  {
   "cell_type": "code",
   "execution_count": 3,
   "id": "c1a8ef4e-34d1-4ee5-a3bc-eda569c69da9",
   "metadata": {},
   "outputs": [
    {
     "name": "stdout",
     "output_type": "stream",
     "text": [
      "\n",
      "Reading 'PA_PROCESSED_corrected.csv'...\n",
      "Successfully read 5538978 rows and 15 columns.\n"
     ]
    }
   ],
   "source": [
    "# --- Read CSV ---\n",
    "try:\n",
    "    print(f\"\\nReading '{csv_filename}'...\")\n",
    "    # Read the CSV. Add low_memory=False if the file is large and has mixed types.\n",
    "    # Specify dtype=str if you want to preserve leading zeros or specific string formats.\n",
    "    df = pd.read_csv(csv_filepath, low_memory=False)\n",
    "    print(f\"Successfully read {len(df)} rows and {len(df.columns)} columns.\")\n",
    "\n",
    "except FileNotFoundError:\n",
    "    print(f\"\\nERROR: Input file not found at '{csv_filepath}'. Please check the path and filename.\")\n",
    "    exit() # Exit if file not found\n",
    "except Exception as e:\n",
    "    print(f\"\\nERROR: An error occurred while reading the CSV file: {e}\")\n",
    "    exit() # Exit on other read errors"
   ]
  },
  {
   "cell_type": "code",
   "execution_count": 4,
   "id": "2826e4d2-c9bd-4893-8035-1853ae71f995",
   "metadata": {},
   "outputs": [
    {
     "name": "stdout",
     "output_type": "stream",
     "text": [
      "\n",
      "Writing data to 'PA_PROCESSED_corrected.xlsx'...\n",
      "\n",
      "ERROR: An error occurred while writing the Excel file: This sheet is too large! Your sheet size is: 5538978, 15 Max sheet size is: 1048576, 16384\n",
      "\n",
      "Script finished.\n"
     ]
    }
   ],
   "source": [
    "# --- Write to Excel ---\n",
    "try:\n",
    "    print(f\"\\nWriting data to '{excel_filename}'...\")\n",
    "    # Write the DataFrame to an Excel file\n",
    "    # index=False prevents pandas from writing the DataFrame index as a column\n",
    "    # engine='openpyxl' is commonly used for .xlsx files (ensure it's installed if needed)\n",
    "    df.to_excel(excel_filepath, index=False, engine='openpyxl')\n",
    "    print(\"Successfully converted CSV to Excel.\")\n",
    "\n",
    "except ImportError:\n",
    "     print(\"\\nERROR: The 'openpyxl' library is required to write Excel files.\")\n",
    "     print(\"Please install it using: pip install openpyxl\")\n",
    "except Exception as e:\n",
    "    print(f\"\\nERROR: An error occurred while writing the Excel file: {e}\")\n",
    "\n",
    "print(\"\\nScript finished.\")"
   ]
  },
  {
   "cell_type": "code",
   "execution_count": null,
   "id": "e966abd5-d9de-4b07-8188-c4ac427630f6",
   "metadata": {},
   "outputs": [],
   "source": []
  }
 ],
 "metadata": {
  "kernelspec": {
   "display_name": "Python 3 (ipykernel)",
   "language": "python",
   "name": "python3"
  },
  "language_info": {
   "codemirror_mode": {
    "name": "ipython",
    "version": 3
   },
   "file_extension": ".py",
   "mimetype": "text/x-python",
   "name": "python",
   "nbconvert_exporter": "python",
   "pygments_lexer": "ipython3",
   "version": "3.10.13"
  }
 },
 "nbformat": 4,
 "nbformat_minor": 5
}
