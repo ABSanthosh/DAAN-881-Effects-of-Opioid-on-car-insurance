{
 "cells": [
  {
   "cell_type": "code",
   "execution_count": null,
   "id": "63ccdce1-ab1b-4b1d-b9bc-cdb87b206e56",
   "metadata": {},
   "outputs": [],
   "source": [
    "# Load Required Libraries\n",
    "install.packages(c(\"lavaan\", \"semPlot\", \"semPLS\", \"graphviz\"))\n",
    "library(lavaan)\n",
    "library(semPlot)\n",
    "library(semPLS)\n",
    "library (graphviz)"
   ]
  },
  {
   "cell_type": "code",
   "execution_count": 1,
   "id": "9a902f41-7568-42e9-b9bd-d384fd269ec9",
   "metadata": {},
   "outputs": [
    {
     "ename": "NameError",
     "evalue": "name 'dataset' is not defined",
     "output_type": "error",
     "traceback": [
      "\u001b[1;31m---------------------------------------------------------------------------\u001b[0m",
      "\u001b[1;31mNameError\u001b[0m                                 Traceback (most recent call last)",
      "Cell \u001b[1;32mIn[1], line 2\u001b[0m\n\u001b[0;32m      1\u001b[0m \u001b[38;5;66;03m# Load the Merged Dataset# (Assume you saved it as merged_dataset_ready_for_sem.csv)\u001b[39;00m\n\u001b[1;32m----> 2\u001b[0m \u001b[43mdataset\u001b[49m \u001b[38;5;241m<\u001b[39m\u001b[38;5;241m-\u001b[39m read\u001b[38;5;241m.\u001b[39mcsv(\u001b[38;5;124m\"\u001b[39m\u001b[38;5;124mC:/Users/jason/OneDrive - The Pennsylvania State University/DAAN 881, Data Drive Decision Making/Project/Auto Data/merged_dataset_ready_for_sem.csv\u001b[39m\u001b[38;5;124m\"\u001b[39m)\n",
      "\u001b[1;31mNameError\u001b[0m: name 'dataset' is not defined"
     ]
    }
   ],
   "source": [
    "# Load the Merged Dataset\n",
    "# (Assume you saved it as merged_dataset_ready_for_sem.csv)\n",
    "dataset <- read.csv(\"C:/Users/jason/OneDrive - The Pennsylvania State University/DAAN 881, Data Drive Decision Making/Project/Auto Data/Merged/merged_dataset_ready_for_sem.csv\")"
   ]
  },
  {
   "cell_type": "code",
   "execution_count": null,
   "id": "10325cba-33e6-467f-a01b-49ae1eb5a680",
   "metadata": {},
   "outputs": [],
   "source": [
    "# Quick Summary\n",
    "summary(dataset)\n",
    "str(dataset)"
   ]
  },
  {
   "cell_type": "code",
   "execution_count": null,
   "id": "a6929b3b-401d-4e75-8a9b-0515a08502c1",
   "metadata": {},
   "outputs": [],
   "source": [
    "# Clean and Prepare Data for SEM\n",
    "# Remove rows with missing key predictors if necessary\n",
    "dataset <- na.omit(dataset[,c('driver_age', 'opioid_flag', 'alcohol_flag', 'any_drug_flag', 'fatalities', 'injuries', 'severity_level')])\n",
    "\n",
    "# Standardize predictor fields\n",
    "dataset$driver_age <- as.numeric(dataset$driver_age)\n",
    "dataset$opioid_flag <- as.numeric(dataset$opioid_flag)\n",
    "dataset$alcohol_flag <- as.numeric(dataset$alcohol_flag)\n",
    "dataset$any_drug_flag <- as.numeric(dataset$any_drug_flag)\n",
    "dataset$fatalities <- as.numeric(dataset$fatalities)\n",
    "dataset$injuries <- as.numeric(dataset$injuries)\n",
    "dataset$severity_level <- as.numeric(dataset$severity_level)"
   ]
  },
  {
   "cell_type": "code",
   "execution_count": null,
   "id": "b787b467-9bde-4b89-8960-a665ade26312",
   "metadata": {},
   "outputs": [],
   "source": [
    "# Define Our Structural Model\n",
    "model_spec <- '\n",
    "# Measurement Model\n",
    "Severity =~ severity_level\n",
    "Impairment =~ opioid_flag + alcohol_flag + any_drug_flag\n",
    "DriverProfile =~ driver_age + fatalities + injuries\n",
    "\n",
    "# Structural Model\n",
    "Severity ~ Impairment + DriverProfile\n",
    "Impairment ~ DriverProfile\n",
    "'"
   ]
  },
  {
   "cell_type": "code",
   "execution_count": null,
   "id": "1c942b78-121f-42a0-9620-b6f802564401",
   "metadata": {},
   "outputs": [],
   "source": [
    "# CB-SEM Execution (Covariance-Based SEM)\n",
    "cbsem_fit <- sem(model_spec, data=dataset, std.lv=TRUE)\n",
    "summary(cbsem_fit, fit.measures=TRUE)\n",
    "\n",
    "# Plot the model visually\n",
    "semPaths(cbsem_fit, what=\"est\", fade=FALSE, residuals=FALSE, layout=\"tree\", structural=TRUE, nCharNodes=7, edge.label.cex=1)"
   ]
  },
  {
   "cell_type": "code",
   "execution_count": null,
   "id": "87c8b6ce-bd22-4a99-8473-56c9808e4ffc",
   "metadata": {},
   "outputs": [],
   "source": [
    "# PLS-SEM Execution (Partial Least Squares SEM)\n",
    "# Setup measurement model for PLS\n",
    "pls_mm <- matrix(c(\n",
    "  \"Impairment\", \"opioid_flag\",\n",
    "  \"Impairment\", \"alcohol_flag\",\n",
    "  \"Impairment\", \"any_drug_flag\",\n",
    "  \"DriverProfile\", \"driver_age\",\n",
    "  \"DriverProfile\", \"fatalities\",\n",
    "  \"DriverProfile\", \"injuries\",\n",
    "  \"Severity\", \"severity_level\"\n",
    "), ncol=2, byrow=TRUE)\n",
    "\n",
    "# Setup structural model for PLS\n",
    "pls_sm <- matrix(c(\n",
    "  \"DriverProfile\", \"Impairment\",\n",
    "  \"DriverProfile\", \"Severity\",\n",
    "  \"Impairment\", \"Severity\"\n",
    "), ncol=2, byrow=TRUE)\n",
    "\n",
    "# Fit the PLS model\n",
    "pls_model <- plsm(data=dataset, strucmod=pls_sm, measuremod=pls_mm)\n",
    "pls_fit <- sempls(model=pls_model, data=dataset)\n",
    "\n",
    "# Summary statistics\n",
    "summary(pls_fit)\n",
    "\n",
    "# Path Coefficients\n",
    "pathCoeff(pls_fit)\n",
    "\n",
    "# Loadings\n",
    "plsLoadings(pls_fit)\n",
    "\n",
    "# R-Squared Values\n",
    "rSquared(pls_fit)\n",
    "\n",
    "# Path diagram (requires Graphviz)\n",
    "if (FALSE) {\n",
    "  pathDiagram(pls_fit, file=\"pls_model\", full=TRUE, edge.labels=\"values\", output.type=\"graphics\", graphics.fmt=\"pdf\")\n",
    "}"
   ]
  },
  {
   "cell_type": "code",
   "execution_count": null,
   "id": "2d40ce26-4c7e-41a0-979d-7c1532c7dc84",
   "metadata": {},
   "outputs": [],
   "source": []
  }
 ],
 "metadata": {
  "kernelspec": {
   "display_name": "Python 3 (ipykernel)",
   "language": "python",
   "name": "python3"
  },
  "language_info": {
   "codemirror_mode": {
    "name": "ipython",
    "version": 3
   },
   "file_extension": ".py",
   "mimetype": "text/x-python",
   "name": "python",
   "nbconvert_exporter": "python",
   "pygments_lexer": "ipython3",
   "version": "3.10.13"
  }
 },
 "nbformat": 4,
 "nbformat_minor": 5
}
